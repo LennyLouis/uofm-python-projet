{
 "cells": [
  {
   "cell_type": "markdown",
   "id": "e4714077-7858-41b6-92f6-68f9298e7b23",
   "metadata": {},
   "source": [
    "# Balt Detector"
   ]
  },
  {
   "cell_type": "markdown",
   "id": "e4f22438-1f63-425f-bb36-a71332655fb7",
   "metadata": {},
   "source": [
    "### We begin by importing some libraries"
   ]
  },
  {
   "cell_type": "code",
   "execution_count": 32,
   "id": "c662c8ee-c2b9-4730-aa29-6c195c98bc46",
   "metadata": {},
   "outputs": [],
   "source": [
    "import joblib\n",
    "import numpy as np\n",
    "import os\n",
    "import random\n",
    "from skimage.io import imread\n",
    "from sklearn.pipeline import make_pipeline\n",
    "from sklearn.preprocessing import StandardScaler\n",
    "from sklearn.svm import SVC\n",
    "from sklearn.metrics import confusion_matrix, ConfusionMatrixDisplay, accuracy_score\n",
    "from sklearn.model_selection import cross_val_predict\n",
    "from sklearn.linear_model import LinearRegression"
   ]
  },
  {
   "cell_type": "markdown",
   "id": "479bb68a-f565-4a82-9043-40f8fde127ca",
   "metadata": {},
   "source": [
    "### Next, we load the training data"
   ]
  },
  {
   "cell_type": "code",
   "execution_count": 2,
   "id": "b755dbe8-8bcc-42e4-a4b8-c8d28a2cfd74",
   "metadata": {},
   "outputs": [
    {
     "name": "stdout",
     "output_type": "stream",
     "text": [
      "Unable to read .DS_Store : Could not find a backend to open `Dataset/Train/Bald/.DS_Store`` with iomode `ri`. so skipping it\n"
     ]
    }
   ],
   "source": [
    "data_path_NotBald = 'Dataset/Train/NotBald/'\n",
    "data_path_Bald = 'Dataset/Train/Bald/'\n",
    "\n",
    "list_NotBald = os.listdir(data_path_NotBald)\n",
    "list_Bald = os.listdir(data_path_Bald)\n",
    "\n",
    "max_train_elements = 1000\n",
    "count = 0\n",
    "\n",
    "listall = []\n",
    "classes = []\n",
    "\n",
    "for x in list_NotBald:\n",
    "    count += 1\n",
    "    if count > max_train_elements:\n",
    "        break\n",
    "    try:\n",
    "        img = imread(data_path_NotBald + x)\n",
    "        listall.append(img)\n",
    "        classes.append(0)  # Bald or Bald spot\n",
    "    except (IOError, ValueError) as e:\n",
    "        print('Unable to read', x, ':', e, 'so skipping it')\n",
    "\n",
    "count = 0\n",
    "for x in list_Bald:\n",
    "    count += 1\n",
    "    if count > max_train_elements:\n",
    "        break\n",
    "    try:\n",
    "        img = imread(data_path_Bald + x)\n",
    "        listall.append(img)\n",
    "        classes.append(1)  # Not Bald\n",
    "    except (IOError, ValueError) as e:\n",
    "        print('Unable to read', x, ':', e, 'so skipping it')"
   ]
  },
  {
   "cell_type": "markdown",
   "id": "150525a3-37c7-4928-92c2-e2fd23a99de0",
   "metadata": {},
   "source": [
    "### Now we do the reshape"
   ]
  },
  {
   "cell_type": "code",
   "execution_count": 3,
   "id": "0950802c-7be0-4a2e-b2ab-741d9ebf7097",
   "metadata": {},
   "outputs": [
    {
     "name": "stdout",
     "output_type": "stream",
     "text": [
      "(1999, 218, 178, 3)\n"
     ]
    }
   ],
   "source": [
    "listall = np.asarray(listall)\n",
    "classes = np.asarray(classes)\n",
    "\n",
    "listshape = listall.shape\n",
    "print(listshape)\n",
    "listshape = listall.reshape(len(classes), -1)\n",
    "\n",
    "x = listshape # the images \n",
    "y = classes # the labels (0 et 1)"
   ]
  },
  {
   "cell_type": "markdown",
   "id": "889a14bd-1ac2-4d1a-aa98-a2ec114ea699",
   "metadata": {},
   "source": [
    "### Normalization"
   ]
  },
  {
   "cell_type": "code",
   "execution_count": 4,
   "id": "48a5b7b2-d676-4461-adce-7f32542d7948",
   "metadata": {},
   "outputs": [],
   "source": [
    "clf = make_pipeline(StandardScaler(), SVC(gamma='auto'))\n",
    "joblib.dump(clf.fit(x, y), 'training-save', compress=0, protocol=None, cache_size=None)\n",
    "\n",
    "clf = joblib.load('training-save', mmap_mode=None)"
   ]
  },
  {
   "cell_type": "markdown",
   "id": "e605435f-be96-4ecd-9afb-3766aef0b0cd",
   "metadata": {},
   "source": [
    "### Training"
   ]
  },
  {
   "cell_type": "code",
   "execution_count": null,
   "id": "93d34afb-b864-452c-b3fd-6f1f7fe2df41",
   "metadata": {},
   "outputs": [],
   "source": [
    "y_pred = clf.predict(x)"
   ]
  },
  {
   "cell_type": "markdown",
   "id": "3c04e8ff-19c1-449e-b283-7b92a08492fd",
   "metadata": {},
   "source": [
    "### Confusion Matrix"
   ]
  },
  {
   "cell_type": "code",
   "execution_count": 6,
   "id": "b1393445-edca-4cad-800a-3516759e7e06",
   "metadata": {},
   "outputs": [
    {
     "data": {
      "image/png": "[encoded data removed]",
      "text/plain": [
       "<Figure size 640x480 with 2 Axes>"
      ]
     },
     "metadata": {},
     "output_type": "display_data"
    }
   ],
   "source": [
    "cm = confusion_matrix(y, y_pred)\n",
    "cm_display = ConfusionMatrixDisplay(cm).plot()"
   ]
  },
  {
   "cell_type": "markdown",
   "id": "59765aee-ea12-4480-9ca9-e1d89af0214b",
   "metadata": {},
   "source": [
    "### Accuracy Score Calculation"
   ]
  },
  {
   "cell_type": "code",
   "execution_count": 27,
   "id": "2fb736f9-aaf5-4ec6-9e37-6218c532ce51",
   "metadata": {},
   "outputs": [
    {
     "name": "stdout",
     "output_type": "stream",
     "text": [
      "Accuracy score : 96.15 %\n"
     ]
    }
   ],
   "source": [
    "score = accuracy_score(y, y_pred, normalize=True)\n",
    "print(\"Accuracy score :\", round(score*100, 2), \"%\")"
   ]
  },
  {
   "cell_type": "markdown",
   "id": "9a95766e-7859-4f14-8c47-de88bffc6ee1",
   "metadata": {},
   "source": [
    "### Testing the Model"
   ]
  },
  {
   "cell_type": "code",
   "execution_count": 26,
   "id": "f14cd941-92a9-4555-a5f5-a319c10028aa",
   "metadata": {},
   "outputs": [
    {
     "name": "stdout",
     "output_type": "stream",
     "text": [
      "❗️ The person in the photo is bald or has a bald spot.\n"
     ]
    },
    {
     "data": {
      "image/jpeg": "[encoded data removed]",
      "text/plain": [
       "<IPython.core.display.Image object>"
      ]
     },
     "metadata": {},
     "output_type": "display_data"
    }
   ],
   "source": [
    "random_photo = random.choice(list_NotBald + list_Bald)\n",
    "random_photo_path = data_path_NotBald + random_photo if random_photo in list_NotBald else data_path_Bald + random_photo\n",
    "\n",
    "test_image = imread(random_photo_path)\n",
    "test_image = test_image.reshape(1, -1)\n",
    "\n",
    "prediction = clf.predict(test_image)\n",
    "\n",
    "if prediction == 0:\n",
    "    print(\"✅ The person in the photo is not bald.\")\n",
    "else:\n",
    "    print(\"❗️ The person in the photo is bald or has a bald spot.\")\n",
    "\n",
    "from IPython.display import Image, display\n",
    "display(Image(filename=random_photo_path))\n"
   ]
  }
 ],
 "metadata": {
  "kernelspec": {
   "display_name": "Python 3 (ipykernel)",
   "language": "python",
   "name": "python3"
  },
  "language_info": {
   "codemirror_mode": {
    "name": "ipython",
    "version": 3
   },
   "file_extension": ".py",
   "mimetype": "text/x-python",
   "name": "python",
   "nbconvert_exporter": "python",
   "pygments_lexer": "ipython3",
   "version": "3.10.9"
  }
 },
 "nbformat": 4,
 "nbformat_minor": 5
}
